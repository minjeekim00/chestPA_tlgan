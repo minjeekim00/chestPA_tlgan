{
 "cells": [
  {
   "cell_type": "code",
   "execution_count": null,
   "metadata": {},
   "outputs": [],
   "source": [
    "import os\n",
    "import glob\n",
    "import sys\n",
    "import numpy as np\n",
    "import pickle\n",
    "import tensorflow as tf\n",
    "import PIL\n",
    "import ipywidgets\n",
    "import io\n",
    "\n",
    "\"\"\" make sure this notebook is running from root directory \"\"\"\n",
    "while os.path.basename(os.getcwd()) in ('notebooks', 'src'):\n",
    "    os.chdir('..')\n",
    "\n",
    "import src.tl_gan.generate_x_ray_image as generate_image\n",
    "import src.tl_gan.feature_axis as feature_axis\n",
    "import src.tl_gan.get_normal_images as get_normal_images"
   ]
  },
  {
   "cell_type": "code",
   "execution_count": null,
   "metadata": {},
   "outputs": [],
   "source": [
    "\"\"\" load feature directions \"\"\"\n",
    "feature_layout = [\n",
    "    [0, ],\n",
    "    [1, ],\n",
    "    [2, ],\n",
    "    [3, ]\n",
    "]\n",
    "path_feature_direction = './asset_results/pg_gan_x_ray_integrated_norm_feature_direction_5/'\n",
    "pathfile_feature_direction = glob.glob(os.path.join(path_feature_direction, 'feature_direction_*.pkl'))[-1]\n",
    "\n",
    "with open(pathfile_feature_direction, 'rb') as f:\n",
    "    feature_direction_name = pickle.load(f)\n",
    "\n",
    "feature_direction = feature_direction_name['direction']\n",
    "feature_name = feature_direction_name['name']\n",
    "num_feature = feature_direction.shape[1]"
   ]
  },
  {
   "cell_type": "code",
   "execution_count": null,
   "metadata": {},
   "outputs": [],
   "source": [
    "\"\"\" start tf session and load GAN model \"\"\"\n",
    "\n",
    "# path to model code and weight\n",
    "path_pg_gan_code = './src/model/pggan'\n",
    "path_model = './asset_model/x-ray_integrated_20190218_network-snapshot-014000.pkl'\n",
    "sys.path.append(path_pg_gan_code)\n",
    "\n",
    "\n",
    "\"\"\" create tf session \"\"\"\n",
    "yn_CPU_only = False\n",
    "\n",
    "if yn_CPU_only:\n",
    "    config = tf.ConfigProto(device_count = {'GPU': 0}, allow_soft_placement=True)\n",
    "else:\n",
    "    config = tf.ConfigProto(allow_soft_placement=True)\n",
    "    config.gpu_options.allow_growth = True\n",
    "\n",
    "sess = tf.InteractiveSession(config=config)\n",
    "\n",
    "try:\n",
    "    with open(path_model, 'rb') as file:\n",
    "        G, D, Gs = pickle.load(file)\n",
    "except FileNotFoundError:\n",
    "    print('before running the code, download pre-trained model to project_root/asset_model/')\n",
    "    raise\n",
    "\n",
    "len_z = Gs.input_shapes[0][1]\n",
    "#z_sample = np.random.randn(len_z)\n",
    "z_sample = get_normal_images.get_single_image() # z sample as normal image\n",
    "x_sample = generate_image.gen_single_img(z_sample, Gs=Gs)\n",
    "z_init = z_sample.copy()"
   ]
  },
  {
   "cell_type": "code",
   "execution_count": null,
   "metadata": {},
   "outputs": [],
   "source": [
    "from io import StringIO, BytesIO\n",
    "from chestPA.cam_py3 import plot_cam\n",
    "\n",
    "def bytes_to_img(imgBytes):\n",
    "    stream = BytesIO(imgBytes)\n",
    "    img = PIL.Image.open(stream)\n",
    "    return np.array(img)\n",
    "\n",
    "def img_to_bytes(x_sample):\n",
    "    imgObj = PIL.Image.fromarray(x_sample)\n",
    "    imgByteArr = io.BytesIO()\n",
    "    imgObj.save(imgByteArr, format='PNG')\n",
    "    imgBytes = imgByteArr.getvalue()\n",
    "    return imgBytes\n",
    "\n",
    "w_img = ipywidgets.widgets.Image(value=img_to_bytes(x_sample), format='png', width=512, height=512)"
   ]
  },
  {
   "cell_type": "code",
   "execution_count": null,
   "metadata": {},
   "outputs": [],
   "source": [
    "class GuiCallback(object):\n",
    "    #     latents = z_sample\n",
    "    def __init__(self):\n",
    "        self.latents = z_sample\n",
    "        self.feature_direction = feature_direction\n",
    "        self.feature_lock_status = np.zeros(num_feature).astype('bool')\n",
    "        self.feature_directoion_disentangled = feature_axis.disentangle_feature_axis_by_idx(\n",
    "            self.feature_direction, idx_base=np.flatnonzero(self.feature_lock_status))\n",
    "        \n",
    "    def random_gen(self, event):\n",
    "        #self.latents = np.random.randn(len_z)\n",
    "        self.latents = get_normal_images.get_single_image() \n",
    "        self.update_img()\n",
    "    \n",
    "    def modify_along_feature(self, event, idx_feature, step_size=0.01):\n",
    "        self.latents += self.feature_directoion_disentangled[:, idx_feature] * step_size\n",
    "        self.update_img()\n",
    "\n",
    "    def set_feature_lock(self, event, idx_feature, set_to=None):\n",
    "        if set_to is None:\n",
    "            self.feature_lock_status[idx_feature] = np.logical_not(self.feature_lock_status[idx_feature])\n",
    "        else:\n",
    "            self.feature_lock_status[idx_feature] = set_to\n",
    "        self.feature_directoion_disentangled = feature_axis.disentangle_feature_axis_by_idx(\n",
    "            self.feature_direction, idx_base=np.flatnonzero(self.feature_lock_status))\n",
    "    \n",
    "    def update_img(self):   \n",
    "        x_sample = generate_image.gen_single_img(z=self.latents, Gs=Gs)\n",
    "        x_byte = img_to_bytes(x_sample)\n",
    "        w_img.value = x_byte\n",
    "        \n",
    "        #w_str.value = get_pred_str(x_sample)"
   ]
  },
  {
   "cell_type": "code",
   "execution_count": null,
   "metadata": {},
   "outputs": [],
   "source": [
    "guicallback = GuiCallback()\n",
    "step_sizes = [1, 0.4 ,0.4, 0.4] # 0,0,0,8"
   ]
  },
  {
   "cell_type": "code",
   "execution_count": null,
   "metadata": {},
   "outputs": [],
   "source": [
    "def create_button(idx_feature, width=200, height=40):\n",
    "    \"\"\" function to built button groups for one feature \"\"\"\n",
    "    w_name_toggle = ipywidgets.widgets.ToggleButton(\n",
    "        value=False, description=feature_name[idx_feature],\n",
    "        tooltip='{}, Press down to lock this feature'.format(feature_name[idx_feature]),\n",
    "        layout=ipywidgets.Layout(height='{:.0f}px'.format(height/2), \n",
    "                                 width='{:.0f}px'.format(width),\n",
    "                                 margin='2px 2px 2px 2px')\n",
    "    )\n",
    "    w_neg = ipywidgets.widgets.Button(description='-',\n",
    "                                      layout=ipywidgets.Layout(height='{:.0f}px'.format(height/2), \n",
    "                                                               width='{:.0f}px'.format(width/2),\n",
    "                                                               margin='1px 1px 5px 1px'))\n",
    "    w_pos = ipywidgets.widgets.Button(description='+',\n",
    "                                      layout=ipywidgets.Layout(height='{:.0f}px'.format(height/2), \n",
    "                                                               width='{:.0f}px'.format(width/2),\n",
    "                                                               margin='1px 1px 5px 1px'))\n",
    "    \n",
    "    w_name_toggle.observe(lambda event: \n",
    "                      guicallback.set_feature_lock(event, idx_feature))\n",
    "    w_neg.on_click(lambda event: \n",
    "                     guicallback.modify_along_feature(event, idx_feature, step_size=-1 * step_sizes[idx_feature]))\n",
    "    w_pos.on_click(lambda event: \n",
    "                     guicallback.modify_along_feature(event, idx_feature, step_size=+1 * step_sizes[idx_feature]))\n",
    "    \n",
    "    button_group = ipywidgets.VBox([w_name_toggle, ipywidgets.HBox([w_neg, w_pos])],\n",
    "                                  layout=ipywidgets.Layout(border='1px solid gray'))\n",
    "    \n",
    "    return button_group"
   ]
  },
  {
   "cell_type": "code",
   "execution_count": null,
   "metadata": {},
   "outputs": [],
   "source": [
    "list_buttons = []\n",
    "for idx_feature in range(num_feature):\n",
    "    list_buttons.append(create_button(idx_feature))\n",
    "\n",
    "yn_button_select = True\n",
    "def arrange_buttons(list_buttons, yn_button_select=True, ncol=4):\n",
    "    num = len(list_buttons)\n",
    "    if yn_button_select:\n",
    "        layout_all_buttons = ipywidgets.VBox([ipywidgets.HBox([list_buttons[item] for item in row]) for row in feature_layout])\n",
    "    else:\n",
    "        layout_all_buttons = ipywidgets.VBox([ipywidgets.HBox(list_buttons[i*ncol:(i+1)*ncol]) for i in range(num//ncol+int(num%ncol>0))])\n",
    "    return layout_all_buttons"
   ]
  },
  {
   "cell_type": "code",
   "execution_count": null,
   "metadata": {
    "scrolled": false
   },
   "outputs": [],
   "source": [
    "# w_button.on_click(on_button_clicked)\n",
    "guicallback.update_img()\n",
    "w_button_random = ipywidgets.widgets.Button(description='random chest x-ray', button_style='success',\n",
    "                                           layout=ipywidgets.Layout(height='60px', \n",
    "                                                               width='165px',\n",
    "                                                               margin='1px 1px 5px 1px'))\n",
    "w_button_random.on_click(guicallback.random_gen)\n",
    "w_box = ipywidgets.HBox([w_img, \n",
    "                         ipywidgets.VBox([w_button_random, \n",
    "                                         arrange_buttons(list_buttons, yn_button_select=True)])\n",
    "                        ], layout=ipywidgets.Layout(height='512px', width='700px')\n",
    "                       )\n",
    "\n",
    "print('press +/- to adjust feature, toggle feature name to lock the feature')\n",
    "display(w_box)\n",
    "#display(w_str)"
   ]
  },
  {
   "cell_type": "code",
   "execution_count": null,
   "metadata": {},
   "outputs": [],
   "source": [
    "arr_img = bytes_to_img(w_img.value)\n",
    "plot_cam(dataset_test=[arr_img], plot_fig=True, show_cam=True)"
   ]
  },
  {
   "cell_type": "code",
   "execution_count": null,
   "metadata": {},
   "outputs": [],
   "source": []
  }
 ],
 "metadata": {
  "kernelspec": {
   "display_name": "Python 3",
   "language": "python",
   "name": "python3"
  },
  "language_info": {
   "codemirror_mode": {
    "name": "ipython",
    "version": 3
   },
   "file_extension": ".py",
   "mimetype": "text/x-python",
   "name": "python",
   "nbconvert_exporter": "python",
   "pygments_lexer": "ipython3",
   "version": "3.5.2"
  }
 },
 "nbformat": 4,
 "nbformat_minor": 2
}
