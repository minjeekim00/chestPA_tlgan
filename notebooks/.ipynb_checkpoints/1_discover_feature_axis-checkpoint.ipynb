{
 "cells": [
  {
   "cell_type": "markdown",
   "metadata": {},
   "source": [
    "pre-requisite: \n",
    "         feature-image pairs stored as pickle files\n",
    "         pickle files: {'z', 'x'}"
   ]
  },
  {
   "cell_type": "code",
   "execution_count": null,
   "metadata": {
    "scrolled": true
   },
   "outputs": [],
   "source": [
    "import os\n",
    "import sys\n",
    "import time\n",
    "import pickle\n",
    "import numpy as np\n",
    "import tensorflow as tf\n",
    "import PIL.Image\n",
    "import datetime\n",
    "import glob\n",
    "import h5py\n",
    "import shutil\n",
    "from tqdm import tqdm\n",
    "from src.model.chestPA_classifier.model import classifier\n",
    "from src.model.chestPA_classifier import test"
   ]
  },
  {
   "cell_type": "markdown",
   "metadata": {},
   "source": [
    "# latent - label matching"
   ]
  },
  {
   "cell_type": "code",
   "execution_count": null,
   "metadata": {},
   "outputs": [],
   "source": [
    "# sample curation\n",
    "\n",
    "def select_samples(dict_zx): # sigmoid 0.9 이상값만 선별 \n",
    "    z = dict_zx['z']\n",
    "    x = dict_zx['x']\n",
    "    list_pred = test(x)\n",
    "    list_z = []\n",
    "    list_y = []\n",
    "    for i, pred in enumerate(list_pred):\n",
    "        idx = np.argmax(pred)\n",
    "        tmp_pred = list(pred[:]) # copy pred\n",
    "        tmp_pred.pop(idx) # list prediction except target\n",
    "        \n",
    "        if idx == 0: continue # exclude normal class\n",
    "        if pred[idx] > 0.9 and all(p < 0.1 for p in tmp_pred):\n",
    "            list_z.append(z[i])\n",
    "            list_y.append(idx)\n",
    "    \n",
    "    if len(list_z) != 0:\n",
    "        list_z = np.vstack(list_z)\n",
    "        list_y = np.asarray(list_y, dtype=np.int8).T\n",
    "        print(\"{} out of {} are selected\".format(len(list_z), len(z)))\n",
    "        return list_z, list_y\n",
    "    else:\n",
    "        print(\"nothing was selected\")\n",
    "        return None, None"
   ]
  },
  {
   "cell_type": "code",
   "execution_count": null,
   "metadata": {
    "scrolled": true
   },
   "outputs": [],
   "source": [
    "# path to model generated results\n",
    "path_gan_sample = './asset_results/pggan_x_ray_integrated_norm_sample_pkl/'\n",
    "list_pkl = sorted(glob.glob(path_gan_sample+'*.pkl'))\n",
    "\n",
    "# initialization\n",
    "arr_z = np.empty([1, 512], dtype=np.float32) \n",
    "arr_x = np.empty([1, 1024, 1024], dtype=np.uint8) \n",
    "arr_y = np.empty([1], dtype=np.int8)\n",
    "\n",
    "for file_pkl in tqdm(list_pkl[:]):\n",
    "    with open(file_pkl, 'rb') as f:\n",
    "        file_pkl_num = os.path.splitext(os.path.basename(file_pkl))[0][-6:].strip('0')\n",
    "        dict_zx = pickle.load(f)\n",
    "        z, y = select_samples(dict_zx)\n",
    "        if z is not None and y is not None:\n",
    "            arr_z = np.concatenate((arr_z, z), 0)\n",
    "            arr_y = np.concatenate((arr_y, y), 0)\n",
    "        \n",
    "## save as h5file\n",
    "path_sample_jpg = './asset_results/pggan_x_ray_integrated_norm_sample_jpg/'\n",
    "h5files = ['sample_z.h5', 'sample_y.h5']\n",
    "arrays = [arr_z, arr_y]\n",
    "data = ['z', 'y']\n",
    "        \n",
    "for i, h5file in enumerate(h5files):\n",
    "    h5path = path_sample_jpg+h5file\n",
    "    with h5py.File(h5path, 'w') as hf:\n",
    "        hf.create_dataset(data[i], data=arrays[i][1:])\n",
    "hf.close()"
   ]
  },
  {
   "cell_type": "code",
   "execution_count": null,
   "metadata": {},
   "outputs": [],
   "source": []
  }
 ],
 "metadata": {
  "kernelspec": {
   "display_name": "Python 3",
   "language": "python",
   "name": "python3"
  },
  "language_info": {
   "codemirror_mode": {
    "name": "ipython",
    "version": 3
   },
   "file_extension": ".py",
   "mimetype": "text/x-python",
   "name": "python",
   "nbconvert_exporter": "python",
   "pygments_lexer": "ipython3",
   "version": "3.5.2"
  }
 },
 "nbformat": 4,
 "nbformat_minor": 2
}
